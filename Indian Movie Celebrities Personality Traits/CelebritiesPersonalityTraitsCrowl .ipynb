{
 "cells": [
  {
   "cell_type": "markdown",
   "metadata": {},
   "source": [
    "# Load Libraries"
   ]
  },
  {
   "cell_type": "code",
   "execution_count": 1,
   "metadata": {},
   "outputs": [
    {
     "name": "stderr",
     "output_type": "stream",
     "text": [
      "[nltk_data] Downloading package stopwords to\n",
      "[nltk_data]     /home/shrijeet/nltk_data...\n",
      "[nltk_data]   Package stopwords is already up-to-date!\n",
      "[nltk_data] Downloading package words to /home/shrijeet/nltk_data...\n",
      "[nltk_data]   Package words is already up-to-date!\n"
     ]
    }
   ],
   "source": [
    "from PIL import Image\n",
    "import requests\n",
    "from bs4 import BeautifulSoup\n",
    "import os\n",
    "import numpy as np\n",
    "import pandas as pd\n",
    "import nltk\n",
    "# Load Stop Words\n",
    "nltk.download('stopwords')\n",
    "# Load English Words\n",
    "nltk.download('words')\n",
    "from nltk.stem.snowball import SnowballStemmer\n",
    "from nltk.corpus import stopwords\n",
    "import re"
   ]
  },
  {
   "cell_type": "markdown",
   "metadata": {},
   "source": [
    "# Crawl the Indian Movie Celebrities Personality Traits With Images From IMDB"
   ]
  },
  {
   "cell_type": "code",
   "execution_count": 2,
   "metadata": {},
   "outputs": [
    {
     "name": "stdout",
     "output_type": "stream",
     "text": [
      "URL https://www.imdb.com/list/ls025929404/?sort=list_order,asc&mode=detail&page=1\n",
      "URL https://www.imdb.com/list/ls025929404/?sort=list_order,asc&mode=detail&page=2\n"
     ]
    }
   ],
   "source": [
    "\n",
    "site = 'https://www.imdb.com'\n",
    "\n",
    "df_celebrities = pd.DataFrame(columns = ['Name' , 'Image', 'Biography'])\n",
    "\n",
    "for i in range(1, 3):\n",
    "    \n",
    "    url = \"https://www.imdb.com/list/ls025929404/?sort=list_order,asc&mode=detail&page=\"+str(i)\n",
    "\n",
    "    print(\"URL\",url)\n",
    "\n",
    "    response = requests.get(url)\n",
    "\n",
    "    soup = BeautifulSoup(response.text, 'html.parser')\n",
    "\n",
    "\n",
    "    for link in soup.find(class_=\"lister list detail sub-list\").find_all([\"a\"]):\n",
    "        #image = soup.find('img')\n",
    "        \n",
    "        if (link.get(\"href\") != None or link.get(\"href\") != '') and (link.get(\"href\").count('/') >= 1):\n",
    "\n",
    "            if link.get(\"href\").split('/')[1] == 'name' and link.get(\"href\").count('/') == 3:\n",
    "\n",
    "                #print(\"href: {}\".format(link.get(\"href\")+\"bio\"))\n",
    "\n",
    "                res = requests.get(site+link.get(\"href\")+\"bio\")\n",
    "\n",
    "                sp = BeautifulSoup(res.text, 'html.parser')\n",
    "\n",
    "                #print(sp)\n",
    "\n",
    "                name = sp.find(class_=\"parent\").find_all([\"a\"])[0].text.strip()\n",
    "\n",
    "                image_url = sp.find(class_=\"subpage_title_block name-subpage-header-block\").find_all([\"img\"])[0].get(\"src\")\n",
    "\n",
    "                bio = sp.find(class_=\"soda odd\").find_all([\"p\"])[0].text.replace('\\n', ' ').strip()\n",
    "                #print(\"Bio \", bio)\n",
    "\n",
    "\n",
    "                img = Image.open(requests.get(image_url, stream = True).raw)\n",
    "\n",
    "                dirs = 'Images' #os.path.abspath('Images')\n",
    "                if not os.path.exists(dirs):\n",
    "                    os.mkdir(dirs)\n",
    "\n",
    "                img_path = dirs+'/'+name.replace(\" \", \"_\").lower()+'.jpg'\n",
    "\n",
    "                img.save(img_path)\n",
    "\n",
    "                df_celebrities = df_celebrities.append({'Name' : name , 'Image' : img_path, 'Biography' : bio}, ignore_index=True)\n"
   ]
  },
  {
   "cell_type": "code",
   "execution_count": 3,
   "metadata": {},
   "outputs": [
    {
     "data": {
      "text/html": [
       "<div>\n",
       "<style scoped>\n",
       "    .dataframe tbody tr th:only-of-type {\n",
       "        vertical-align: middle;\n",
       "    }\n",
       "\n",
       "    .dataframe tbody tr th {\n",
       "        vertical-align: top;\n",
       "    }\n",
       "\n",
       "    .dataframe thead th {\n",
       "        text-align: right;\n",
       "    }\n",
       "</style>\n",
       "<table border=\"1\" class=\"dataframe\">\n",
       "  <thead>\n",
       "    <tr style=\"text-align: right;\">\n",
       "      <th></th>\n",
       "      <th>Name</th>\n",
       "      <th>Image</th>\n",
       "      <th>Biography</th>\n",
       "    </tr>\n",
       "  </thead>\n",
       "  <tbody>\n",
       "    <tr>\n",
       "      <th>0</th>\n",
       "      <td>Dilip Kumar</td>\n",
       "      <td>Images/dilip_kumar.jpg</td>\n",
       "      <td>Dilip Kumar is considered to be one of the gre...</td>\n",
       "    </tr>\n",
       "    <tr>\n",
       "      <th>1</th>\n",
       "      <td>Raj Kapoor</td>\n",
       "      <td>Images/raj_kapoor.jpg</td>\n",
       "      <td>Raj Kapoor was the son of well-known Indian ac...</td>\n",
       "    </tr>\n",
       "    <tr>\n",
       "      <th>2</th>\n",
       "      <td>Dev Anand</td>\n",
       "      <td>Images/dev_anand.jpg</td>\n",
       "      <td>After having played the Lead Actor for more th...</td>\n",
       "    </tr>\n",
       "    <tr>\n",
       "      <th>3</th>\n",
       "      <td>Amitabh Bachchan</td>\n",
       "      <td>Images/amitabh_bachchan.jpg</td>\n",
       "      <td>Son of well known poet Harivansh Rai Bachchan ...</td>\n",
       "    </tr>\n",
       "    <tr>\n",
       "      <th>4</th>\n",
       "      <td>Salman Khan</td>\n",
       "      <td>Images/salman_khan.jpg</td>\n",
       "      <td>Born on December 27, 1965 Salman Khan is the s...</td>\n",
       "    </tr>\n",
       "  </tbody>\n",
       "</table>\n",
       "</div>"
      ],
      "text/plain": [
       "               Name                        Image  \\\n",
       "0       Dilip Kumar       Images/dilip_kumar.jpg   \n",
       "1        Raj Kapoor        Images/raj_kapoor.jpg   \n",
       "2         Dev Anand         Images/dev_anand.jpg   \n",
       "3  Amitabh Bachchan  Images/amitabh_bachchan.jpg   \n",
       "4       Salman Khan       Images/salman_khan.jpg   \n",
       "\n",
       "                                           Biography  \n",
       "0  Dilip Kumar is considered to be one of the gre...  \n",
       "1  Raj Kapoor was the son of well-known Indian ac...  \n",
       "2  After having played the Lead Actor for more th...  \n",
       "3  Son of well known poet Harivansh Rai Bachchan ...  \n",
       "4  Born on December 27, 1965 Salman Khan is the s...  "
      ]
     },
     "execution_count": 3,
     "metadata": {},
     "output_type": "execute_result"
    }
   ],
   "source": [
    "df_celebrities.head()"
   ]
  },
  {
   "cell_type": "markdown",
   "metadata": {},
   "source": [
    "# Save Data In CSV Format"
   ]
  },
  {
   "cell_type": "code",
   "execution_count": 4,
   "metadata": {},
   "outputs": [],
   "source": [
    "df_celebrities.to_csv('celebrities_data.csv', index=False)"
   ]
  },
  {
   "cell_type": "markdown",
   "metadata": {},
   "source": [
    "# Save Data In SQLite3 Database"
   ]
  },
  {
   "cell_type": "code",
   "execution_count": 5,
   "metadata": {},
   "outputs": [],
   "source": [
    "import sqlite3\n",
    "conn = sqlite3.connect('DBCelebrities.sqlite3')\n",
    "df_celebrities.to_sql('Celebrities_Bio', conn, if_exists='replace', index=False)"
   ]
  },
  {
   "cell_type": "markdown",
   "metadata": {},
   "source": [
    "# Load Data From CSV"
   ]
  },
  {
   "cell_type": "code",
   "execution_count": 6,
   "metadata": {},
   "outputs": [
    {
     "data": {
      "text/html": [
       "<div>\n",
       "<style scoped>\n",
       "    .dataframe tbody tr th:only-of-type {\n",
       "        vertical-align: middle;\n",
       "    }\n",
       "\n",
       "    .dataframe tbody tr th {\n",
       "        vertical-align: top;\n",
       "    }\n",
       "\n",
       "    .dataframe thead th {\n",
       "        text-align: right;\n",
       "    }\n",
       "</style>\n",
       "<table border=\"1\" class=\"dataframe\">\n",
       "  <thead>\n",
       "    <tr style=\"text-align: right;\">\n",
       "      <th></th>\n",
       "      <th>Name</th>\n",
       "      <th>Image</th>\n",
       "      <th>Biography</th>\n",
       "    </tr>\n",
       "  </thead>\n",
       "  <tbody>\n",
       "    <tr>\n",
       "      <th>0</th>\n",
       "      <td>Dilip Kumar</td>\n",
       "      <td>Images/dilip_kumar.jpg</td>\n",
       "      <td>Dilip Kumar is considered to be one of the gre...</td>\n",
       "    </tr>\n",
       "    <tr>\n",
       "      <th>1</th>\n",
       "      <td>Raj Kapoor</td>\n",
       "      <td>Images/raj_kapoor.jpg</td>\n",
       "      <td>Raj Kapoor was the son of well-known Indian ac...</td>\n",
       "    </tr>\n",
       "    <tr>\n",
       "      <th>2</th>\n",
       "      <td>Dev Anand</td>\n",
       "      <td>Images/dev_anand.jpg</td>\n",
       "      <td>After having played the Lead Actor for more th...</td>\n",
       "    </tr>\n",
       "    <tr>\n",
       "      <th>3</th>\n",
       "      <td>Amitabh Bachchan</td>\n",
       "      <td>Images/amitabh_bachchan.jpg</td>\n",
       "      <td>Son of well known poet Harivansh Rai Bachchan ...</td>\n",
       "    </tr>\n",
       "    <tr>\n",
       "      <th>4</th>\n",
       "      <td>Salman Khan</td>\n",
       "      <td>Images/salman_khan.jpg</td>\n",
       "      <td>Born on December 27, 1965 Salman Khan is the s...</td>\n",
       "    </tr>\n",
       "  </tbody>\n",
       "</table>\n",
       "</div>"
      ],
      "text/plain": [
       "               Name                        Image  \\\n",
       "0       Dilip Kumar       Images/dilip_kumar.jpg   \n",
       "1        Raj Kapoor        Images/raj_kapoor.jpg   \n",
       "2         Dev Anand         Images/dev_anand.jpg   \n",
       "3  Amitabh Bachchan  Images/amitabh_bachchan.jpg   \n",
       "4       Salman Khan       Images/salman_khan.jpg   \n",
       "\n",
       "                                           Biography  \n",
       "0  Dilip Kumar is considered to be one of the gre...  \n",
       "1  Raj Kapoor was the son of well-known Indian ac...  \n",
       "2  After having played the Lead Actor for more th...  \n",
       "3  Son of well known poet Harivansh Rai Bachchan ...  \n",
       "4  Born on December 27, 1965 Salman Khan is the s...  "
      ]
     },
     "execution_count": 6,
     "metadata": {},
     "output_type": "execute_result"
    }
   ],
   "source": [
    "df_celebrities = pd.read_csv('celebrities_data.csv')\n",
    "df_celebrities.head()"
   ]
  },
  {
   "cell_type": "markdown",
   "metadata": {},
   "source": [
    "# Remove Special Characters and Numbers From Biography"
   ]
  },
  {
   "cell_type": "code",
   "execution_count": 7,
   "metadata": {},
   "outputs": [
    {
     "data": {
      "text/html": [
       "<div>\n",
       "<style scoped>\n",
       "    .dataframe tbody tr th:only-of-type {\n",
       "        vertical-align: middle;\n",
       "    }\n",
       "\n",
       "    .dataframe tbody tr th {\n",
       "        vertical-align: top;\n",
       "    }\n",
       "\n",
       "    .dataframe thead th {\n",
       "        text-align: right;\n",
       "    }\n",
       "</style>\n",
       "<table border=\"1\" class=\"dataframe\">\n",
       "  <thead>\n",
       "    <tr style=\"text-align: right;\">\n",
       "      <th></th>\n",
       "      <th>Name</th>\n",
       "      <th>Image</th>\n",
       "      <th>Biography</th>\n",
       "      <th>Cleaned_Bio</th>\n",
       "    </tr>\n",
       "  </thead>\n",
       "  <tbody>\n",
       "    <tr>\n",
       "      <th>0</th>\n",
       "      <td>Dilip Kumar</td>\n",
       "      <td>Images/dilip_kumar.jpg</td>\n",
       "      <td>Dilip Kumar is considered to be one of the gre...</td>\n",
       "      <td>dilip kumar is considered to be one of the gre...</td>\n",
       "    </tr>\n",
       "    <tr>\n",
       "      <th>1</th>\n",
       "      <td>Raj Kapoor</td>\n",
       "      <td>Images/raj_kapoor.jpg</td>\n",
       "      <td>Raj Kapoor was the son of well-known Indian ac...</td>\n",
       "      <td>raj kapoor was the son of wellknown indian act...</td>\n",
       "    </tr>\n",
       "    <tr>\n",
       "      <th>2</th>\n",
       "      <td>Dev Anand</td>\n",
       "      <td>Images/dev_anand.jpg</td>\n",
       "      <td>After having played the Lead Actor for more th...</td>\n",
       "      <td>after having played the lead actor for more th...</td>\n",
       "    </tr>\n",
       "    <tr>\n",
       "      <th>3</th>\n",
       "      <td>Amitabh Bachchan</td>\n",
       "      <td>Images/amitabh_bachchan.jpg</td>\n",
       "      <td>Son of well known poet Harivansh Rai Bachchan ...</td>\n",
       "      <td>son of well known poet harivansh rai bachchan ...</td>\n",
       "    </tr>\n",
       "    <tr>\n",
       "      <th>4</th>\n",
       "      <td>Salman Khan</td>\n",
       "      <td>Images/salman_khan.jpg</td>\n",
       "      <td>Born on December 27, 1965 Salman Khan is the s...</td>\n",
       "      <td>born on december   salman khan is the son of t...</td>\n",
       "    </tr>\n",
       "  </tbody>\n",
       "</table>\n",
       "</div>"
      ],
      "text/plain": [
       "               Name                        Image  \\\n",
       "0       Dilip Kumar       Images/dilip_kumar.jpg   \n",
       "1        Raj Kapoor        Images/raj_kapoor.jpg   \n",
       "2         Dev Anand         Images/dev_anand.jpg   \n",
       "3  Amitabh Bachchan  Images/amitabh_bachchan.jpg   \n",
       "4       Salman Khan       Images/salman_khan.jpg   \n",
       "\n",
       "                                           Biography  \\\n",
       "0  Dilip Kumar is considered to be one of the gre...   \n",
       "1  Raj Kapoor was the son of well-known Indian ac...   \n",
       "2  After having played the Lead Actor for more th...   \n",
       "3  Son of well known poet Harivansh Rai Bachchan ...   \n",
       "4  Born on December 27, 1965 Salman Khan is the s...   \n",
       "\n",
       "                                         Cleaned_Bio  \n",
       "0  dilip kumar is considered to be one of the gre...  \n",
       "1  raj kapoor was the son of wellknown indian act...  \n",
       "2  after having played the lead actor for more th...  \n",
       "3  son of well known poet harivansh rai bachchan ...  \n",
       "4  born on december   salman khan is the son of t...  "
      ]
     },
     "execution_count": 7,
     "metadata": {},
     "output_type": "execute_result"
    }
   ],
   "source": [
    "df_celebrities_1 = df_celebrities.copy()\n",
    "\n",
    "df_celebrities_1['Cleaned_Bio'] = df_celebrities['Biography'].str.replace(r\"[^a-zA-Z ]+\", \"\").str.lower().str.strip()\n",
    "df_celebrities_1.head()"
   ]
  },
  {
   "cell_type": "code",
   "execution_count": 8,
   "metadata": {},
   "outputs": [
    {
     "name": "stdout",
     "output_type": "stream",
     "text": [
      "8601\n",
      "dilip kumar is considered to be one of the greatest actors of indian cinema starting his career in  he has starred in some of the biggest commercially successful films in the period   he was the first actor to receive a filmfare best actor award and holds the record for most number of filmfare awards won for that category though he has done films of other genres occasionally like  he balanced out with roles such as the intense andaz  with the swashbuckling aan  the dramatic devdas  with the comical azaad  and the historical romance mughal e azam  with the social ganga jamuna  he predominantly specialized in doing love stories or tragic roles from  from late s roles dried up for kumar as films starring dev anand rajendra kumar and shammi kapoor were more successful from  and also dilips films from  to  were box office flops like dil diya dard liya sunghursh aadmi dastaan gopi sagina and bairaag and after  he left films for a five year break after rajesh khanna became first superstar of indian cinema in  most of the author backed lead roles from  went to rajesh khanna in  dilip returned with a character role at insistence of manoj kumar in the blockbuster film kranti and continued his career playing central character roles in multihero films such as shakti  karma  vidhaata mazdoor mashaal duniya dharm adhikari kanoon apna apna izzatdaar saudagar  qila but his only films to be successful from  at box office were kranti vidhaata karma dharm adhikari kanoon apna apna and saudagar he has retired from the indian film industry in he was born muhammad yusuf khan in qissa khawani bazaar in peshawar pakistan in a hindko speaking awan family of twelve children his father ghulam sarwar was a fruit merchant and owned large orchards in peshawar and devlali in maharashtra near mumbai the family relocated to mumbai in s and in the early s yusuf khan moved to pune and started off with his canteen business and supplying dry fruitsthere he was spotted by a leading actress of those years devika rani who was also the wife of the founder of bombay talkies himanshu rai and helped his entry into the bollywood film industry she also gave him the screen name of dilip kumarhis first film jwar bhata was released in  which went unnoticed and his next  films pratima naukadubi  were box office flops in  he shot to prominence with the film jugnu which was his first major hit and followed it up with successful shaheed  and thereby became a starhis next release ghar ki izzat was box office flop he fell in love with kamini kaushal and their onscreen paid was a hit with audience kamini kaushaldilip kumar gave hits like shaheed nadiya ke paar shabnam  arzoo  kamini kaushal was a bigger star than dilip kumar even before they did their first film shaheed as a pair since kamini had  hits to her name already and dilip had a crush on her ever since her first film neecha nagar became a hit in  in  he costarred with the then struggling actordirector raj kapoor who had a flop in aag as a director and had  flops as an actor before this film in the romantic melodrama film andaz which went to become a huge success and made him a star throughout the s he was one of the biggest stars of bollywood along with raj kapoor and dev anand dev anand who had  flops from  became a star when ziddi became a hit in  and raj kapoors fortune as an actor changed when andaz became a hit in thus among the trio first to become a star was dilip kumar and then second was dev anand and then raj kapoor dilip became known for playing tragic love story roles in hit films such as nadiya ke paar  mela  andaz  jogan  babul  arzoo  deedar  tarana  deedar  daag  shikast  which earned him the title of tragedy king  some of his most famous films in tragic roles were box office flops like amar  devdas  dil diya dard liya  and aadmi  madhumati  gave him filmfare award for best actorwith nargis he had  hits like mela andaz jogan babul deedar  and  flops like anokha pyar hulchul  in  kamini kaushaldilip kumar affair ended the pair of madhubaladilip kumar had a hit in tarana and  flops in sangdil  and amar  but the couple fell in love with eachother while working in amarlater madhubala and dilip kumar broke up in  while working in mughal eazam but being professionals did work together to complete the filmwhich took years to finish and got released in from  he had hits like daag  aan  and uran khatola  with nimmi shikast  with nalini jaywant foot path azaad  yahudi  and kohinoor  with meena kumari insaniyat  with bina rainaya daur madhumati  and ganga jamuna  with vyjanthimala musafir  with suchitra sen from  his only flops were sangdil amar devdas  so this period of  is considered the peak period of dilip kumars career as a herohe was also successful in playing lighthearted roles such as playing a swashbuckling peasant in aan  and a comic role in azaad  in  he starred in the historical film mughaleazam opposite madhubala which is as of  the third highest grossing film in hindi film history inflation adjusted behind kismet haathi mere saathi and ahead of sholay hum aapke hai kaun in which he played the role of the mughal crownprince jehangir the son of akbarin  he produced and starred in the hit ganga jamuna in which he and his real life brother nasir khan played the title roles despite the film success he did not produce any film after this but gave away the script for its tamil version iru dhruvam starring sivaji ganesan dilip had a narrow brush with international fame in  when british director david lean offered him the role of sherif ali in his  film lawrence of arabia however kumar declined the part citing its a small role for a big hero like him the role eventually went to omar sharif the egyptian actor his next films like the critically acclaimed leader  and critically panned dil diya dard liya  which were huge box office flops but he bounced back when he played a dual role of twins separated at birth in the film ram aur shyam  which was one of the biggest box office hits of the year but again his next releases aadmi sunghursh  flopped and dilip kumars acting career as a hero ended as most of the roles which he would have got went to the first superstar of indian cinema  rajesh khanna from in the period  the career of most of the actors like rajendra kumar shammi kapoor dilip kumar and raj kapoor as the hero ended with emergence of rajesh khanna many of kumars films like sunghursh aadmi dastaan gopi sagina  bairaag failed at the box office during this period and after the release of his  film bairaag in which he played triple roles he took retirement as the hero but manoj kumar ensured that dilip kumar made a comeback and put an end to a five year break from acting but offering a role in kranti in  initially dilip kumar was hesitant to do the role but maoj kumar convinced him to make a comebackpeople preferred to cast rajesh khanna or sanjeev kumar in the solo lead hero films instead of casting dilip kumar in the period  to he made a comeback in  with the multistarer kranti which was the biggest hit of the year he went onto play character roles as an elderly family patriarch or a police officer in films like shakti  karma  vidhaata mazdoor mashaal duniya dharm adhikari kanoon apna apna izzatdaar saudagar  qila but his only films to be successful from  at box office were kranti vidhaata karma dharm adhikari kanoon apna apna and saudagar in his last major successful film saudagar  he appeared alongside another legendary actor raaj kumar after three decades since they last appeared together in paigham  in  he won the filmfare lifetime achievement awardin  he was supposed to make his directorial debut with a film titled kalinga with him and rajesh khanna in the lead but the film was shelved in  he made his last film appearance to date in the box office flop qila where in a rare form he played a villainous role he has since retired from the film industry due to his indifferent healthdilip kumars younger brother nasir khan was also an actor and appeared opposite dilip in ganga jamuna  and bairaag  as well as acted as hero in  films from  but  were flops thus nasirs career was not as successful and he died in  nasir khans son ayub khan is also an actor in the industry nasir khans wife was s actress begum para who made a comeback to films after  years in the film saawariya in  in supporting roledilip kumar married actress and beauty queen saira banu in  when he was aged  and she was  at the time gossip columnists predicted doom for the highprofile couple but the union has been one of the longest lasting marriages in bollywood\n"
     ]
    }
   ],
   "source": [
    "print(len(df_celebrities_1['Cleaned_Bio'][0]))\n",
    "print(df_celebrities_1['Cleaned_Bio'][0])"
   ]
  },
  {
   "cell_type": "markdown",
   "metadata": {},
   "source": [
    "# Remove Stop Words From Biography"
   ]
  },
  {
   "cell_type": "code",
   "execution_count": 9,
   "metadata": {},
   "outputs": [
    {
     "name": "stdout",
     "output_type": "stream",
     "text": [
      "['i', 'me', 'my', 'myself', 'we', 'our', 'ours', 'ourselves', 'you', \"you're\", \"you've\", \"you'll\", \"you'd\", 'your', 'yours', 'yourself', 'yourselves', 'he', 'him', 'his', 'himself', 'she', \"she's\", 'her', 'hers', 'herself', 'it', \"it's\", 'its', 'itself', 'they', 'them', 'their', 'theirs', 'themselves', 'what', 'which', 'who', 'whom', 'this', 'that', \"that'll\", 'these', 'those', 'am', 'is', 'are', 'was', 'were', 'be', 'been', 'being', 'have', 'has', 'had', 'having', 'do', 'does', 'did', 'doing', 'a', 'an', 'the', 'and', 'but', 'if', 'or', 'because', 'as', 'until', 'while', 'of', 'at', 'by', 'for', 'with', 'about', 'against', 'between', 'into', 'through', 'during', 'before', 'after', 'above', 'below', 'to', 'from', 'up', 'down', 'in', 'out', 'on', 'off', 'over', 'under', 'again', 'further', 'then', 'once', 'here', 'there', 'when', 'where', 'why', 'how', 'all', 'any', 'both', 'each', 'few', 'more', 'most', 'other', 'some', 'such', 'no', 'nor', 'not', 'only', 'own', 'same', 'so', 'than', 'too', 'very', 's', 't', 'can', 'will', 'just', 'don', \"don't\", 'should', \"should've\", 'now', 'd', 'll', 'm', 'o', 're', 've', 'y', 'ain', 'aren', \"aren't\", 'couldn', \"couldn't\", 'didn', \"didn't\", 'doesn', \"doesn't\", 'hadn', \"hadn't\", 'hasn', \"hasn't\", 'haven', \"haven't\", 'isn', \"isn't\", 'ma', 'mightn', \"mightn't\", 'mustn', \"mustn't\", 'needn', \"needn't\", 'shan', \"shan't\", 'shouldn', \"shouldn't\", 'wasn', \"wasn't\", 'weren', \"weren't\", 'won', \"won't\", 'wouldn', \"wouldn't\"]\n",
      "179\n"
     ]
    }
   ],
   "source": [
    "stop_words = stopwords.words('english')\n",
    "print(stop_words)\n",
    "print(len(stop_words))"
   ]
  },
  {
   "cell_type": "code",
   "execution_count": 10,
   "metadata": {},
   "outputs": [
    {
     "data": {
      "text/html": [
       "<div>\n",
       "<style scoped>\n",
       "    .dataframe tbody tr th:only-of-type {\n",
       "        vertical-align: middle;\n",
       "    }\n",
       "\n",
       "    .dataframe tbody tr th {\n",
       "        vertical-align: top;\n",
       "    }\n",
       "\n",
       "    .dataframe thead th {\n",
       "        text-align: right;\n",
       "    }\n",
       "</style>\n",
       "<table border=\"1\" class=\"dataframe\">\n",
       "  <thead>\n",
       "    <tr style=\"text-align: right;\">\n",
       "      <th></th>\n",
       "      <th>Name</th>\n",
       "      <th>Image</th>\n",
       "      <th>Biography</th>\n",
       "      <th>Cleaned_Bio</th>\n",
       "    </tr>\n",
       "  </thead>\n",
       "  <tbody>\n",
       "    <tr>\n",
       "      <th>0</th>\n",
       "      <td>Dilip Kumar</td>\n",
       "      <td>Images/dilip_kumar.jpg</td>\n",
       "      <td>Dilip Kumar is considered to be one of the gre...</td>\n",
       "      <td>dilip kumar considered one greatest actors ind...</td>\n",
       "    </tr>\n",
       "    <tr>\n",
       "      <th>1</th>\n",
       "      <td>Raj Kapoor</td>\n",
       "      <td>Images/raj_kapoor.jpg</td>\n",
       "      <td>Raj Kapoor was the son of well-known Indian ac...</td>\n",
       "      <td>raj kapoor son wellknown indian actor prithvir...</td>\n",
       "    </tr>\n",
       "    <tr>\n",
       "      <th>2</th>\n",
       "      <td>Dev Anand</td>\n",
       "      <td>Images/dev_anand.jpg</td>\n",
       "      <td>After having played the Lead Actor for more th...</td>\n",
       "      <td>played lead actor five decades motion pictures...</td>\n",
       "    </tr>\n",
       "    <tr>\n",
       "      <th>3</th>\n",
       "      <td>Amitabh Bachchan</td>\n",
       "      <td>Images/amitabh_bachchan.jpg</td>\n",
       "      <td>Son of well known poet Harivansh Rai Bachchan ...</td>\n",
       "      <td>son well known poet harivansh rai bachchan tej...</td>\n",
       "    </tr>\n",
       "    <tr>\n",
       "      <th>4</th>\n",
       "      <td>Salman Khan</td>\n",
       "      <td>Images/salman_khan.jpg</td>\n",
       "      <td>Born on December 27, 1965 Salman Khan is the s...</td>\n",
       "      <td>born december salman khan son legendary writer...</td>\n",
       "    </tr>\n",
       "  </tbody>\n",
       "</table>\n",
       "</div>"
      ],
      "text/plain": [
       "               Name                        Image  \\\n",
       "0       Dilip Kumar       Images/dilip_kumar.jpg   \n",
       "1        Raj Kapoor        Images/raj_kapoor.jpg   \n",
       "2         Dev Anand         Images/dev_anand.jpg   \n",
       "3  Amitabh Bachchan  Images/amitabh_bachchan.jpg   \n",
       "4       Salman Khan       Images/salman_khan.jpg   \n",
       "\n",
       "                                           Biography  \\\n",
       "0  Dilip Kumar is considered to be one of the gre...   \n",
       "1  Raj Kapoor was the son of well-known Indian ac...   \n",
       "2  After having played the Lead Actor for more th...   \n",
       "3  Son of well known poet Harivansh Rai Bachchan ...   \n",
       "4  Born on December 27, 1965 Salman Khan is the s...   \n",
       "\n",
       "                                         Cleaned_Bio  \n",
       "0  dilip kumar considered one greatest actors ind...  \n",
       "1  raj kapoor son wellknown indian actor prithvir...  \n",
       "2  played lead actor five decades motion pictures...  \n",
       "3  son well known poet harivansh rai bachchan tej...  \n",
       "4  born december salman khan son legendary writer...  "
      ]
     },
     "execution_count": 10,
     "metadata": {},
     "output_type": "execute_result"
    }
   ],
   "source": [
    "df_celebrities_2 = df_celebrities_1.copy()\n",
    "\n",
    "df_celebrities_2['Cleaned_Bio'] = df_celebrities_1['Cleaned_Bio'].apply(lambda x: ' '.join([item for item in x.split() if item not in stop_words]))\n",
    "df_celebrities_2.head()"
   ]
  },
  {
   "cell_type": "code",
   "execution_count": 11,
   "metadata": {},
   "outputs": [
    {
     "name": "stdout",
     "output_type": "stream",
     "text": [
      "6202\n",
      "dilip kumar considered one greatest actors indian cinema starting career starred biggest commercially successful films period first actor receive filmfare best actor award holds record number filmfare awards category though done films genres occasionally like balanced roles intense andaz swashbuckling aan dramatic devdas comical azaad historical romance mughal e azam social ganga jamuna predominantly specialized love stories tragic roles late roles dried kumar films starring dev anand rajendra kumar shammi kapoor successful also dilips films box office flops like dil diya dard liya sunghursh aadmi dastaan gopi sagina bairaag left films five year break rajesh khanna became first superstar indian cinema author backed lead roles went rajesh khanna dilip returned character role insistence manoj kumar blockbuster film kranti continued career playing central character roles multihero films shakti karma vidhaata mazdoor mashaal duniya dharm adhikari kanoon apna apna izzatdaar saudagar qila films successful box office kranti vidhaata karma dharm adhikari kanoon apna apna saudagar retired indian film industry born muhammad yusuf khan qissa khawani bazaar peshawar pakistan hindko speaking awan family twelve children father ghulam sarwar fruit merchant owned large orchards peshawar devlali maharashtra near mumbai family relocated mumbai early yusuf khan moved pune started canteen business supplying dry fruitsthere spotted leading actress years devika rani also wife founder bombay talkies himanshu rai helped entry bollywood film industry also gave screen name dilip kumarhis first film jwar bhata released went unnoticed next films pratima naukadubi box office flops shot prominence film jugnu first major hit followed successful shaheed thereby became starhis next release ghar ki izzat box office flop fell love kamini kaushal onscreen paid hit audience kamini kaushaldilip kumar gave hits like shaheed nadiya ke paar shabnam arzoo kamini kaushal bigger star dilip kumar even first film shaheed pair since kamini hits name already dilip crush ever since first film neecha nagar became hit costarred struggling actordirector raj kapoor flop aag director flops actor film romantic melodrama film andaz went become huge success made star throughout one biggest stars bollywood along raj kapoor dev anand dev anand flops became star ziddi became hit raj kapoors fortune actor changed andaz became hit thus among trio first become star dilip kumar second dev anand raj kapoor dilip became known playing tragic love story roles hit films nadiya ke paar mela andaz jogan babul arzoo deedar tarana deedar daag shikast earned title tragedy king famous films tragic roles box office flops like amar devdas dil diya dard liya aadmi madhumati gave filmfare award best actorwith nargis hits like mela andaz jogan babul deedar flops like anokha pyar hulchul kamini kaushaldilip kumar affair ended pair madhubaladilip kumar hit tarana flops sangdil amar couple fell love eachother working amarlater madhubala dilip kumar broke working mughal eazam professionals work together complete filmwhich took years finish got released hits like daag aan uran khatola nimmi shikast nalini jaywant foot path azaad yahudi kohinoor meena kumari insaniyat bina rainaya daur madhumati ganga jamuna vyjanthimala musafir suchitra sen flops sangdil amar devdas period considered peak period dilip kumars career herohe also successful playing lighthearted roles playing swashbuckling peasant aan comic role azaad starred historical film mughaleazam opposite madhubala third highest grossing film hindi film history inflation adjusted behind kismet haathi mere saathi ahead sholay hum aapke hai kaun played role mughal crownprince jehangir son akbarin produced starred hit ganga jamuna real life brother nasir khan played title roles despite film success produce film gave away script tamil version iru dhruvam starring sivaji ganesan dilip narrow brush international fame british director david lean offered role sherif ali film lawrence arabia however kumar declined part citing small role big hero like role eventually went omar sharif egyptian actor next films like critically acclaimed leader critically panned dil diya dard liya huge box office flops bounced back played dual role twins separated birth film ram aur shyam one biggest box office hits year next releases aadmi sunghursh flopped dilip kumars acting career hero ended roles would got went first superstar indian cinema rajesh khanna period career actors like rajendra kumar shammi kapoor dilip kumar raj kapoor hero ended emergence rajesh khanna many kumars films like sunghursh aadmi dastaan gopi sagina bairaag failed box office period release film bairaag played triple roles took retirement hero manoj kumar ensured dilip kumar made comeback put end five year break acting offering role kranti initially dilip kumar hesitant role maoj kumar convinced make comebackpeople preferred cast rajesh khanna sanjeev kumar solo lead hero films instead casting dilip kumar period made comeback multistarer kranti biggest hit year went onto play character roles elderly family patriarch police officer films like shakti karma vidhaata mazdoor mashaal duniya dharm adhikari kanoon apna apna izzatdaar saudagar qila films successful box office kranti vidhaata karma dharm adhikari kanoon apna apna saudagar last major successful film saudagar appeared alongside another legendary actor raaj kumar three decades since last appeared together paigham filmfare lifetime achievement awardin supposed make directorial debut film titled kalinga rajesh khanna lead film shelved made last film appearance date box office flop qila rare form played villainous role since retired film industry due indifferent healthdilip kumars younger brother nasir khan also actor appeared opposite dilip ganga jamuna bairaag well acted hero films flops thus nasirs career successful died nasir khans son ayub khan also actor industry nasir khans wife actress begum para made comeback films years film saawariya supporting roledilip kumar married actress beauty queen saira banu aged time gossip columnists predicted doom highprofile couple union one longest lasting marriages bollywood\n"
     ]
    }
   ],
   "source": [
    "print(len(df_celebrities_2['Cleaned_Bio'][0]))\n",
    "print(df_celebrities_2['Cleaned_Bio'][0])"
   ]
  },
  {
   "cell_type": "markdown",
   "metadata": {},
   "source": [
    "# Stemme Words in Biography"
   ]
  },
  {
   "cell_type": "code",
   "execution_count": 12,
   "metadata": {},
   "outputs": [],
   "source": [
    "# Use English stemmer.\n",
    "stemmer = SnowballStemmer(\"english\")"
   ]
  },
  {
   "cell_type": "code",
   "execution_count": 13,
   "metadata": {},
   "outputs": [
    {
     "data": {
      "text/html": [
       "<div>\n",
       "<style scoped>\n",
       "    .dataframe tbody tr th:only-of-type {\n",
       "        vertical-align: middle;\n",
       "    }\n",
       "\n",
       "    .dataframe tbody tr th {\n",
       "        vertical-align: top;\n",
       "    }\n",
       "\n",
       "    .dataframe thead th {\n",
       "        text-align: right;\n",
       "    }\n",
       "</style>\n",
       "<table border=\"1\" class=\"dataframe\">\n",
       "  <thead>\n",
       "    <tr style=\"text-align: right;\">\n",
       "      <th></th>\n",
       "      <th>Name</th>\n",
       "      <th>Image</th>\n",
       "      <th>Biography</th>\n",
       "      <th>Cleaned_Bio</th>\n",
       "    </tr>\n",
       "  </thead>\n",
       "  <tbody>\n",
       "    <tr>\n",
       "      <th>0</th>\n",
       "      <td>Dilip Kumar</td>\n",
       "      <td>Images/dilip_kumar.jpg</td>\n",
       "      <td>Dilip Kumar is considered to be one of the gre...</td>\n",
       "      <td>dilip kumar consid one greatest actor indian c...</td>\n",
       "    </tr>\n",
       "    <tr>\n",
       "      <th>1</th>\n",
       "      <td>Raj Kapoor</td>\n",
       "      <td>Images/raj_kapoor.jpg</td>\n",
       "      <td>Raj Kapoor was the son of well-known Indian ac...</td>\n",
       "      <td>raj kapoor son wellknown indian actor prithvir...</td>\n",
       "    </tr>\n",
       "    <tr>\n",
       "      <th>2</th>\n",
       "      <td>Dev Anand</td>\n",
       "      <td>Images/dev_anand.jpg</td>\n",
       "      <td>After having played the Lead Actor for more th...</td>\n",
       "      <td>play lead actor five decad motion pictur dev a...</td>\n",
       "    </tr>\n",
       "    <tr>\n",
       "      <th>3</th>\n",
       "      <td>Amitabh Bachchan</td>\n",
       "      <td>Images/amitabh_bachchan.jpg</td>\n",
       "      <td>Son of well known poet Harivansh Rai Bachchan ...</td>\n",
       "      <td>son well known poet harivansh rai bachchan tej...</td>\n",
       "    </tr>\n",
       "    <tr>\n",
       "      <th>4</th>\n",
       "      <td>Salman Khan</td>\n",
       "      <td>Images/salman_khan.jpg</td>\n",
       "      <td>Born on December 27, 1965 Salman Khan is the s...</td>\n",
       "      <td>born decemb salman khan son legendari writer s...</td>\n",
       "    </tr>\n",
       "  </tbody>\n",
       "</table>\n",
       "</div>"
      ],
      "text/plain": [
       "               Name                        Image  \\\n",
       "0       Dilip Kumar       Images/dilip_kumar.jpg   \n",
       "1        Raj Kapoor        Images/raj_kapoor.jpg   \n",
       "2         Dev Anand         Images/dev_anand.jpg   \n",
       "3  Amitabh Bachchan  Images/amitabh_bachchan.jpg   \n",
       "4       Salman Khan       Images/salman_khan.jpg   \n",
       "\n",
       "                                           Biography  \\\n",
       "0  Dilip Kumar is considered to be one of the gre...   \n",
       "1  Raj Kapoor was the son of well-known Indian ac...   \n",
       "2  After having played the Lead Actor for more th...   \n",
       "3  Son of well known poet Harivansh Rai Bachchan ...   \n",
       "4  Born on December 27, 1965 Salman Khan is the s...   \n",
       "\n",
       "                                         Cleaned_Bio  \n",
       "0  dilip kumar consid one greatest actor indian c...  \n",
       "1  raj kapoor son wellknown indian actor prithvir...  \n",
       "2  play lead actor five decad motion pictur dev a...  \n",
       "3  son well known poet harivansh rai bachchan tej...  \n",
       "4  born decemb salman khan son legendari writer s...  "
      ]
     },
     "execution_count": 13,
     "metadata": {},
     "output_type": "execute_result"
    }
   ],
   "source": [
    "df_celebrities_3 = df_celebrities_2.copy()\n",
    "\n",
    "df_celebrities_3['Cleaned_Bio'] = df_celebrities_2['Cleaned_Bio'].apply(lambda x: ' '.join([stemmer.stem(item) for item in x.split()]))\n",
    "df_celebrities_3.head()"
   ]
  },
  {
   "cell_type": "code",
   "execution_count": 14,
   "metadata": {},
   "outputs": [
    {
     "name": "stdout",
     "output_type": "stream",
     "text": [
      "5706\n",
      "dilip kumar consid one greatest actor indian cinema start career star biggest commerci success film period first actor receiv filmfar best actor award hold record number filmfar award categori though done film genr occasion like balanc role intens andaz swashbuckl aan dramat devda comic azaad histor romanc mughal e azam social ganga jamuna predomin special love stori tragic role late role dri kumar film star dev anand rajendra kumar shammi kapoor success also dilip film box offic flop like dil diya dard liya sunghursh aadmi dastaan gopi sagina bairaag left film five year break rajesh khanna becam first superstar indian cinema author back lead role went rajesh khanna dilip return charact role insist manoj kumar blockbust film kranti continu career play central charact role multihero film shakti karma vidhaata mazdoor mashaal duniya dharm adhikari kanoon apna apna izzatdaar saudagar qila film success box offic kranti vidhaata karma dharm adhikari kanoon apna apna saudagar retir indian film industri born muhammad yusuf khan qissa khawani bazaar peshawar pakistan hindko speak awan famili twelv children father ghulam sarwar fruit merchant own larg orchard peshawar devlali maharashtra near mumbai famili reloc mumbai earli yusuf khan move pune start canteen busi suppli dri fruitsther spot lead actress year devika rani also wife founder bombay talki himanshu rai help entri bollywood film industri also gave screen name dilip kumarhi first film jwar bhata releas went unnot next film pratima naukadubi box offic flop shot promin film jugnu first major hit follow success shahe therebi becam starhi next releas ghar ki izzat box offic flop fell love kamini kaushal onscreen paid hit audienc kamini kaushaldilip kumar gave hit like shahe nadiya ke paar shabnam arzoo kamini kaushal bigger star dilip kumar even first film shahe pair sinc kamini hit name alreadi dilip crush ever sinc first film neecha nagar becam hit costar struggl actordirector raj kapoor flop aag director flop actor film romant melodrama film andaz went becom huge success made star throughout one biggest star bollywood along raj kapoor dev anand dev anand flop becam star ziddi becam hit raj kapoor fortun actor chang andaz becam hit thus among trio first becom star dilip kumar second dev anand raj kapoor dilip becam known play tragic love stori role hit film nadiya ke paar mela andaz jogan babul arzoo deedar tarana deedar daag shikast earn titl tragedi king famous film tragic role box offic flop like amar devda dil diya dard liya aadmi madhumati gave filmfar award best actorwith nargi hit like mela andaz jogan babul deedar flop like anokha pyar hulchul kamini kaushaldilip kumar affair end pair madhubaladilip kumar hit tarana flop sangdil amar coupl fell love eachoth work amarlat madhubala dilip kumar broke work mughal eazam profession work togeth complet filmwhich took year finish got releas hit like daag aan uran khatola nimmi shikast nalini jaywant foot path azaad yahudi kohinoor meena kumari insaniyat bina rainaya daur madhumati ganga jamuna vyjanthimala musafir suchitra sen flop sangdil amar devda period consid peak period dilip kumar career heroh also success play lightheart role play swashbuckl peasant aan comic role azaad star histor film mughaleazam opposit madhubala third highest gross film hindi film histori inflat adjust behind kismet haathi mere saathi ahead sholay hum aapk hai kaun play role mughal crownprinc jehangir son akbarin produc star hit ganga jamuna real life brother nasir khan play titl role despit film success produc film gave away script tamil version iru dhruvam star sivaji ganesan dilip narrow brush intern fame british director david lean offer role sherif ali film lawrenc arabia howev kumar declin part cite small role big hero like role eventu went omar sharif egyptian actor next film like critic acclaim leader critic pan dil diya dard liya huge box offic flop bounc back play dual role twin separ birth film ram aur shyam one biggest box offic hit year next releas aadmi sunghursh flop dilip kumar act career hero end role would got went first superstar indian cinema rajesh khanna period career actor like rajendra kumar shammi kapoor dilip kumar raj kapoor hero end emerg rajesh khanna mani kumar film like sunghursh aadmi dastaan gopi sagina bairaag fail box offic period releas film bairaag play tripl role took retir hero manoj kumar ensur dilip kumar made comeback put end five year break act offer role kranti initi dilip kumar hesit role maoj kumar convinc make comebackpeopl prefer cast rajesh khanna sanjeev kumar solo lead hero film instead cast dilip kumar period made comeback multistar kranti biggest hit year went onto play charact role elder famili patriarch polic offic film like shakti karma vidhaata mazdoor mashaal duniya dharm adhikari kanoon apna apna izzatdaar saudagar qila film success box offic kranti vidhaata karma dharm adhikari kanoon apna apna saudagar last major success film saudagar appear alongsid anoth legendari actor raaj kumar three decad sinc last appear togeth paigham filmfar lifetim achiev awardin suppos make directori debut film titl kalinga rajesh khanna lead film shelv made last film appear date box offic flop qila rare form play villain role sinc retir film industri due indiffer healthdilip kumar younger brother nasir khan also actor appear opposit dilip ganga jamuna bairaag well act hero film flop thus nasir career success die nasir khan son ayub khan also actor industri nasir khan wife actress begum para made comeback film year film saawariya support roledilip kumar marri actress beauti queen saira banu age time gossip columnist predict doom highprofil coupl union one longest last marriag bollywood\n"
     ]
    }
   ],
   "source": [
    "print(len(df_celebrities_3['Cleaned_Bio'][0]))\n",
    "print(df_celebrities_3['Cleaned_Bio'][0])"
   ]
  },
  {
   "cell_type": "code",
   "execution_count": 15,
   "metadata": {},
   "outputs": [
    {
     "data": {
      "text/plain": [
       "'play'"
      ]
     },
     "execution_count": 15,
     "metadata": {},
     "output_type": "execute_result"
    }
   ],
   "source": [
    "stemmer.stem(\"played\")"
   ]
  },
  {
   "cell_type": "markdown",
   "metadata": {},
   "source": [
    "# Remove Non-English Words From Biography"
   ]
  },
  {
   "cell_type": "code",
   "execution_count": 16,
   "metadata": {},
   "outputs": [],
   "source": [
    "english_words = set(nltk.corpus.words.words())"
   ]
  },
  {
   "cell_type": "code",
   "execution_count": 17,
   "metadata": {},
   "outputs": [
    {
     "data": {
      "text/html": [
       "<div>\n",
       "<style scoped>\n",
       "    .dataframe tbody tr th:only-of-type {\n",
       "        vertical-align: middle;\n",
       "    }\n",
       "\n",
       "    .dataframe tbody tr th {\n",
       "        vertical-align: top;\n",
       "    }\n",
       "\n",
       "    .dataframe thead th {\n",
       "        text-align: right;\n",
       "    }\n",
       "</style>\n",
       "<table border=\"1\" class=\"dataframe\">\n",
       "  <thead>\n",
       "    <tr style=\"text-align: right;\">\n",
       "      <th></th>\n",
       "      <th>Name</th>\n",
       "      <th>Image</th>\n",
       "      <th>Biography</th>\n",
       "      <th>Cleaned_Bio</th>\n",
       "    </tr>\n",
       "  </thead>\n",
       "  <tbody>\n",
       "    <tr>\n",
       "      <th>0</th>\n",
       "      <td>Dilip Kumar</td>\n",
       "      <td>Images/dilip_kumar.jpg</td>\n",
       "      <td>Dilip Kumar is considered to be one of the gre...</td>\n",
       "      <td>one actor cinema start career star biggest suc...</td>\n",
       "    </tr>\n",
       "    <tr>\n",
       "      <th>1</th>\n",
       "      <td>Raj Kapoor</td>\n",
       "      <td>Images/raj_kapoor.jpg</td>\n",
       "      <td>Raj Kapoor was the son of well-known Indian ac...</td>\n",
       "      <td>raj son actor act film stage product studio ye...</td>\n",
       "    </tr>\n",
       "    <tr>\n",
       "      <th>2</th>\n",
       "      <td>Dev Anand</td>\n",
       "      <td>Images/dev_anand.jpg</td>\n",
       "      <td>After having played the Lead Actor for more th...</td>\n",
       "      <td>play lead actor five decad motion dev cinema t...</td>\n",
       "    </tr>\n",
       "    <tr>\n",
       "      <th>3</th>\n",
       "      <td>Amitabh Bachchan</td>\n",
       "      <td>Images/amitabh_bachchan.jpg</td>\n",
       "      <td>Son of well known poet Harivansh Rai Bachchan ...</td>\n",
       "      <td>son well known poet brother name move find wor...</td>\n",
       "    </tr>\n",
       "    <tr>\n",
       "      <th>4</th>\n",
       "      <td>Salman Khan</td>\n",
       "      <td>Images/salman_khan.jpg</td>\n",
       "      <td>Born on December 27, 1965 Salman Khan is the s...</td>\n",
       "      <td>born khan son writer khan pen mani yesteryear ...</td>\n",
       "    </tr>\n",
       "  </tbody>\n",
       "</table>\n",
       "</div>"
      ],
      "text/plain": [
       "               Name                        Image  \\\n",
       "0       Dilip Kumar       Images/dilip_kumar.jpg   \n",
       "1        Raj Kapoor        Images/raj_kapoor.jpg   \n",
       "2         Dev Anand         Images/dev_anand.jpg   \n",
       "3  Amitabh Bachchan  Images/amitabh_bachchan.jpg   \n",
       "4       Salman Khan       Images/salman_khan.jpg   \n",
       "\n",
       "                                           Biography  \\\n",
       "0  Dilip Kumar is considered to be one of the gre...   \n",
       "1  Raj Kapoor was the son of well-known Indian ac...   \n",
       "2  After having played the Lead Actor for more th...   \n",
       "3  Son of well known poet Harivansh Rai Bachchan ...   \n",
       "4  Born on December 27, 1965 Salman Khan is the s...   \n",
       "\n",
       "                                         Cleaned_Bio  \n",
       "0  one actor cinema start career star biggest suc...  \n",
       "1  raj son actor act film stage product studio ye...  \n",
       "2  play lead actor five decad motion dev cinema t...  \n",
       "3  son well known poet brother name move find wor...  \n",
       "4  born khan son writer khan pen mani yesteryear ...  "
      ]
     },
     "execution_count": 17,
     "metadata": {},
     "output_type": "execute_result"
    }
   ],
   "source": [
    "df_celebrities_4 = df_celebrities_3.copy()\n",
    "\n",
    "df_celebrities_4['Cleaned_Bio'] = df_celebrities_3['Cleaned_Bio'].apply(lambda x: ' '.join([item for item in x.split() if item in english_words]))\n",
    "df_celebrities_4.head()"
   ]
  },
  {
   "cell_type": "code",
   "execution_count": 18,
   "metadata": {},
   "outputs": [
    {
     "name": "stdout",
     "output_type": "stream",
     "text": [
      "2612\n",
      "one actor cinema start career star biggest success film period first actor best actor award hold record number award though done film occasion like role comic e social ganga special love tragic role late role film star dev success also film box flop like left film five year break first cinema author back lead role went return role insist film career play central role film shakti karma kanoon film success box karma kanoon film born khan bazaar speak father fruit merchant own orchard near khan move start canteen spot lead actress year rani also wife founder help film also gave screen name first film went next film box flop shot film first major hit follow success next box flop fell love hit gave hit like paar bigger star even first film pair hit name crush ever first film hit costar raj flop director flop actor film melodrama film went huge success made star throughout one biggest star along raj dev dev flop star hit raj actor chang hit thus among trio first star second dev raj known play tragic love role hit film paar mela babul earn king famous film tragic role box flop like amar gave award best hit like mela babul flop like affair end pair hit flop amar fell love work broke work profession work took year finish got hit like uran foot path ganga sen flop amar period peak period career also success play role play peasant comic role star film opposit third highest gross film film adjust behind kismet mere ahead hum play role son star hit ganga real life brother khan play role film success film gave away script version star narrow brush intern fame director lean offer role sherif film part cite small role big hero like role went actor next film like critic acclaim leader critic pan huge box flop back play dual role twin birth film ram one biggest box hit year next flop act career hero end role would got went first cinema period career actor like raj hero end mani film like fail box period film play role took hero made comeback put end five year break act offer role role make prefer cast solo lead hero film instead cast period made comeback biggest hit year went onto play role elder patriarch film like shakti karma kanoon film success box karma kanoon last major success film appear actor three decad last appear make debut film lead film made last film appear date box flop rare form play villain role film due younger brother khan also actor appear opposit ganga well act hero film flop thus career success die khan son khan also actor khan wife actress begum para made comeback film year film support actress beauti queen age time gossip columnist predict doom union one last\n"
     ]
    }
   ],
   "source": [
    "print(len(df_celebrities_4['Cleaned_Bio'][0]))\n",
    "print(df_celebrities_4['Cleaned_Bio'][0])"
   ]
  },
  {
   "cell_type": "code",
   "execution_count": null,
   "metadata": {},
   "outputs": [],
   "source": []
  },
  {
   "cell_type": "markdown",
   "metadata": {},
   "source": [
    "# Remove Non Adjectives From Biography"
   ]
  },
  {
   "cell_type": "code",
   "execution_count": 19,
   "metadata": {},
   "outputs": [],
   "source": [
    "import spacy\n",
    "nlp = spacy.load('en_core_web_sm')"
   ]
  },
  {
   "cell_type": "code",
   "execution_count": 20,
   "metadata": {},
   "outputs": [],
   "source": [
    "about_doc = nlp(df_celebrities_1['Cleaned_Bio'][0])"
   ]
  },
  {
   "cell_type": "code",
   "execution_count": null,
   "metadata": {},
   "outputs": [],
   "source": []
  },
  {
   "cell_type": "code",
   "execution_count": 21,
   "metadata": {},
   "outputs": [
    {
     "data": {
      "text/html": [
       "<div>\n",
       "<style scoped>\n",
       "    .dataframe tbody tr th:only-of-type {\n",
       "        vertical-align: middle;\n",
       "    }\n",
       "\n",
       "    .dataframe tbody tr th {\n",
       "        vertical-align: top;\n",
       "    }\n",
       "\n",
       "    .dataframe thead th {\n",
       "        text-align: right;\n",
       "    }\n",
       "</style>\n",
       "<table border=\"1\" class=\"dataframe\">\n",
       "  <thead>\n",
       "    <tr style=\"text-align: right;\">\n",
       "      <th></th>\n",
       "      <th>Name</th>\n",
       "      <th>Image</th>\n",
       "      <th>Biography</th>\n",
       "      <th>Cleaned_Bio</th>\n",
       "    </tr>\n",
       "  </thead>\n",
       "  <tbody>\n",
       "    <tr>\n",
       "      <th>0</th>\n",
       "      <td>Dilip Kumar</td>\n",
       "      <td>Images/dilip_kumar.jpg</td>\n",
       "      <td>Dilip Kumar is considered to be one of the gre...</td>\n",
       "      <td>biggest first best special tragic late first c...</td>\n",
       "    </tr>\n",
       "    <tr>\n",
       "      <th>1</th>\n",
       "      <td>Raj Kapoor</td>\n",
       "      <td>Images/raj_kapoor.jpg</td>\n",
       "      <td>Raj Kapoor was the son of well-known Indian ac...</td>\n",
       "      <td>new next direct popular social close moral new...</td>\n",
       "    </tr>\n",
       "    <tr>\n",
       "      <th>2</th>\n",
       "      <td>Dev Anand</td>\n",
       "      <td>Images/dev_anand.jpg</td>\n",
       "      <td>After having played the Lead Actor for more th...</td>\n",
       "      <td>new magic present new new intern best best for...</td>\n",
       "    </tr>\n",
       "    <tr>\n",
       "      <th>3</th>\n",
       "      <td>Amitabh Bachchan</td>\n",
       "      <td>Images/amitabh_bachchan.jpg</td>\n",
       "      <td>Son of well known poet Harivansh Rai Bachchan ...</td>\n",
       "      <td>poet fairer fair enough deep accomplish live p...</td>\n",
       "    </tr>\n",
       "    <tr>\n",
       "      <th>4</th>\n",
       "      <td>Salman Khan</td>\n",
       "      <td>Images/salman_khan.jpg</td>\n",
       "      <td>Born on December 27, 1965 Salman Khan is the s...</td>\n",
       "      <td>main local black possess roguish tri perform g...</td>\n",
       "    </tr>\n",
       "  </tbody>\n",
       "</table>\n",
       "</div>"
      ],
      "text/plain": [
       "               Name                        Image  \\\n",
       "0       Dilip Kumar       Images/dilip_kumar.jpg   \n",
       "1        Raj Kapoor        Images/raj_kapoor.jpg   \n",
       "2         Dev Anand         Images/dev_anand.jpg   \n",
       "3  Amitabh Bachchan  Images/amitabh_bachchan.jpg   \n",
       "4       Salman Khan       Images/salman_khan.jpg   \n",
       "\n",
       "                                           Biography  \\\n",
       "0  Dilip Kumar is considered to be one of the gre...   \n",
       "1  Raj Kapoor was the son of well-known Indian ac...   \n",
       "2  After having played the Lead Actor for more th...   \n",
       "3  Son of well known poet Harivansh Rai Bachchan ...   \n",
       "4  Born on December 27, 1965 Salman Khan is the s...   \n",
       "\n",
       "                                         Cleaned_Bio  \n",
       "0  biggest first best special tragic late first c...  \n",
       "1  new next direct popular social close moral new...  \n",
       "2  new magic present new new intern best best for...  \n",
       "3  poet fairer fair enough deep accomplish live p...  \n",
       "4  main local black possess roguish tri perform g...  "
      ]
     },
     "execution_count": 21,
     "metadata": {},
     "output_type": "execute_result"
    }
   ],
   "source": [
    "df_celebrities_5 = df_celebrities_4.copy()\n",
    "\n",
    "df_celebrities_5['Cleaned_Bio'] = df_celebrities_4['Cleaned_Bio'].apply(lambda x: ' '.join([str(item) for item in nlp(x) if item.pos_=='ADJ']))\n",
    "df_celebrities_5.head()"
   ]
  },
  {
   "cell_type": "code",
   "execution_count": 22,
   "metadata": {},
   "outputs": [
    {
     "name": "stdout",
     "output_type": "stream",
     "text": [
      "293\n",
      "biggest first best special tragic late first cinema lead own first next first major next bigger first first huge biggest tragic famous tragic comic highest gross hum real lean small big next dual twin biggest first cinema solo biggest elder patriarch last major last last rare due younger last\n"
     ]
    }
   ],
   "source": [
    "print(len(df_celebrities_5['Cleaned_Bio'][0]))\n",
    "print(df_celebrities_5['Cleaned_Bio'][0])"
   ]
  },
  {
   "cell_type": "markdown",
   "metadata": {},
   "source": [
    "# Generate CountVectorizer of  Biography"
   ]
  },
  {
   "cell_type": "code",
   "execution_count": 23,
   "metadata": {},
   "outputs": [],
   "source": [
    "from sklearn.feature_extraction.text import CountVectorizer"
   ]
  },
  {
   "cell_type": "code",
   "execution_count": 24,
   "metadata": {},
   "outputs": [],
   "source": [
    "vectorizer = CountVectorizer()\n",
    "X = vectorizer.fit_transform(df_celebrities_5['Cleaned_Bio'])\n",
    "\n",
    "count_vect_df = pd.DataFrame(X.todense(), columns=vectorizer.get_feature_names())\n",
    "\n",
    "df_celebrities_6 = pd.concat([df_celebrities_5, count_vect_df], axis=1)"
   ]
  },
  {
   "cell_type": "code",
   "execution_count": 25,
   "metadata": {},
   "outputs": [
    {
     "data": {
      "text/html": [
       "<div>\n",
       "<style scoped>\n",
       "    .dataframe tbody tr th:only-of-type {\n",
       "        vertical-align: middle;\n",
       "    }\n",
       "\n",
       "    .dataframe tbody tr th {\n",
       "        vertical-align: top;\n",
       "    }\n",
       "\n",
       "    .dataframe thead th {\n",
       "        text-align: right;\n",
       "    }\n",
       "</style>\n",
       "<table border=\"1\" class=\"dataframe\">\n",
       "  <thead>\n",
       "    <tr style=\"text-align: right;\">\n",
       "      <th></th>\n",
       "      <th>Name</th>\n",
       "      <th>Image</th>\n",
       "      <th>Biography</th>\n",
       "      <th>Cleaned_Bio</th>\n",
       "      <th>accept</th>\n",
       "      <th>accomplish</th>\n",
       "      <th>activist</th>\n",
       "      <th>apart</th>\n",
       "      <th>arjun</th>\n",
       "      <th>assist</th>\n",
       "      <th>...</th>\n",
       "      <th>vibrant</th>\n",
       "      <th>villain</th>\n",
       "      <th>visual</th>\n",
       "      <th>weak</th>\n",
       "      <th>whole</th>\n",
       "      <th>wide</th>\n",
       "      <th>wise</th>\n",
       "      <th>wrong</th>\n",
       "      <th>young</th>\n",
       "      <th>younger</th>\n",
       "    </tr>\n",
       "  </thead>\n",
       "  <tbody>\n",
       "    <tr>\n",
       "      <th>0</th>\n",
       "      <td>Dilip Kumar</td>\n",
       "      <td>Images/dilip_kumar.jpg</td>\n",
       "      <td>Dilip Kumar is considered to be one of the gre...</td>\n",
       "      <td>biggest first best special tragic late first c...</td>\n",
       "      <td>0</td>\n",
       "      <td>0</td>\n",
       "      <td>0</td>\n",
       "      <td>0</td>\n",
       "      <td>0</td>\n",
       "      <td>0</td>\n",
       "      <td>...</td>\n",
       "      <td>0</td>\n",
       "      <td>0</td>\n",
       "      <td>0</td>\n",
       "      <td>0</td>\n",
       "      <td>0</td>\n",
       "      <td>0</td>\n",
       "      <td>0</td>\n",
       "      <td>0</td>\n",
       "      <td>0</td>\n",
       "      <td>1</td>\n",
       "    </tr>\n",
       "    <tr>\n",
       "      <th>1</th>\n",
       "      <td>Raj Kapoor</td>\n",
       "      <td>Images/raj_kapoor.jpg</td>\n",
       "      <td>Raj Kapoor was the son of well-known Indian ac...</td>\n",
       "      <td>new next direct popular social close moral new...</td>\n",
       "      <td>0</td>\n",
       "      <td>0</td>\n",
       "      <td>0</td>\n",
       "      <td>0</td>\n",
       "      <td>0</td>\n",
       "      <td>0</td>\n",
       "      <td>...</td>\n",
       "      <td>0</td>\n",
       "      <td>0</td>\n",
       "      <td>0</td>\n",
       "      <td>0</td>\n",
       "      <td>0</td>\n",
       "      <td>0</td>\n",
       "      <td>0</td>\n",
       "      <td>0</td>\n",
       "      <td>0</td>\n",
       "      <td>0</td>\n",
       "    </tr>\n",
       "    <tr>\n",
       "      <th>2</th>\n",
       "      <td>Dev Anand</td>\n",
       "      <td>Images/dev_anand.jpg</td>\n",
       "      <td>After having played the Lead Actor for more th...</td>\n",
       "      <td>new magic present new new intern best best for...</td>\n",
       "      <td>0</td>\n",
       "      <td>0</td>\n",
       "      <td>0</td>\n",
       "      <td>0</td>\n",
       "      <td>0</td>\n",
       "      <td>0</td>\n",
       "      <td>...</td>\n",
       "      <td>0</td>\n",
       "      <td>0</td>\n",
       "      <td>0</td>\n",
       "      <td>0</td>\n",
       "      <td>0</td>\n",
       "      <td>0</td>\n",
       "      <td>0</td>\n",
       "      <td>0</td>\n",
       "      <td>0</td>\n",
       "      <td>0</td>\n",
       "    </tr>\n",
       "    <tr>\n",
       "      <th>3</th>\n",
       "      <td>Amitabh Bachchan</td>\n",
       "      <td>Images/amitabh_bachchan.jpg</td>\n",
       "      <td>Son of well known poet Harivansh Rai Bachchan ...</td>\n",
       "      <td>poet fairer fair enough deep accomplish live p...</td>\n",
       "      <td>0</td>\n",
       "      <td>1</td>\n",
       "      <td>0</td>\n",
       "      <td>0</td>\n",
       "      <td>0</td>\n",
       "      <td>0</td>\n",
       "      <td>...</td>\n",
       "      <td>0</td>\n",
       "      <td>0</td>\n",
       "      <td>0</td>\n",
       "      <td>0</td>\n",
       "      <td>0</td>\n",
       "      <td>0</td>\n",
       "      <td>0</td>\n",
       "      <td>1</td>\n",
       "      <td>1</td>\n",
       "      <td>0</td>\n",
       "    </tr>\n",
       "    <tr>\n",
       "      <th>4</th>\n",
       "      <td>Salman Khan</td>\n",
       "      <td>Images/salman_khan.jpg</td>\n",
       "      <td>Born on December 27, 1965 Salman Khan is the s...</td>\n",
       "      <td>main local black possess roguish tri perform g...</td>\n",
       "      <td>0</td>\n",
       "      <td>0</td>\n",
       "      <td>0</td>\n",
       "      <td>0</td>\n",
       "      <td>0</td>\n",
       "      <td>0</td>\n",
       "      <td>...</td>\n",
       "      <td>0</td>\n",
       "      <td>0</td>\n",
       "      <td>0</td>\n",
       "      <td>0</td>\n",
       "      <td>0</td>\n",
       "      <td>0</td>\n",
       "      <td>0</td>\n",
       "      <td>0</td>\n",
       "      <td>0</td>\n",
       "      <td>0</td>\n",
       "    </tr>\n",
       "  </tbody>\n",
       "</table>\n",
       "<p>5 rows × 257 columns</p>\n",
       "</div>"
      ],
      "text/plain": [
       "               Name                        Image  \\\n",
       "0       Dilip Kumar       Images/dilip_kumar.jpg   \n",
       "1        Raj Kapoor        Images/raj_kapoor.jpg   \n",
       "2         Dev Anand         Images/dev_anand.jpg   \n",
       "3  Amitabh Bachchan  Images/amitabh_bachchan.jpg   \n",
       "4       Salman Khan       Images/salman_khan.jpg   \n",
       "\n",
       "                                           Biography  \\\n",
       "0  Dilip Kumar is considered to be one of the gre...   \n",
       "1  Raj Kapoor was the son of well-known Indian ac...   \n",
       "2  After having played the Lead Actor for more th...   \n",
       "3  Son of well known poet Harivansh Rai Bachchan ...   \n",
       "4  Born on December 27, 1965 Salman Khan is the s...   \n",
       "\n",
       "                                         Cleaned_Bio  accept  accomplish  \\\n",
       "0  biggest first best special tragic late first c...       0           0   \n",
       "1  new next direct popular social close moral new...       0           0   \n",
       "2  new magic present new new intern best best for...       0           0   \n",
       "3  poet fairer fair enough deep accomplish live p...       0           1   \n",
       "4  main local black possess roguish tri perform g...       0           0   \n",
       "\n",
       "   activist  apart  arjun  assist  ...  vibrant  villain  visual  weak  whole  \\\n",
       "0         0      0      0       0  ...        0        0       0     0      0   \n",
       "1         0      0      0       0  ...        0        0       0     0      0   \n",
       "2         0      0      0       0  ...        0        0       0     0      0   \n",
       "3         0      0      0       0  ...        0        0       0     0      0   \n",
       "4         0      0      0       0  ...        0        0       0     0      0   \n",
       "\n",
       "   wide  wise  wrong  young  younger  \n",
       "0     0     0      0      0        1  \n",
       "1     0     0      0      0        0  \n",
       "2     0     0      0      0        0  \n",
       "3     0     0      1      1        0  \n",
       "4     0     0      0      0        0  \n",
       "\n",
       "[5 rows x 257 columns]"
      ]
     },
     "execution_count": 25,
     "metadata": {},
     "output_type": "execute_result"
    }
   ],
   "source": [
    "df_celebrities_6.head()"
   ]
  },
  {
   "cell_type": "code",
   "execution_count": null,
   "metadata": {},
   "outputs": [],
   "source": []
  },
  {
   "cell_type": "code",
   "execution_count": 26,
   "metadata": {},
   "outputs": [
    {
     "name": "stdout",
     "output_type": "stream",
     "text": [
      "['accept', 'accomplish', 'activist', 'apart', 'arjun', 'assist', 'back', 'bad', 'basic', 'best', 'better', 'big', 'bigger', 'biggest', 'black', 'bose', 'boyish', 'calm', 'candid', 'casual', 'central', 'chic', 'chief', 'choreograph', 'chronic', 'cinema', 'civil', 'civilian', 'classic', 'close', 'comedian', 'comic', 'common', 'cordial', 'critic', 'current', 'cute', 'dark', 'dead', 'deep', 'design', 'direct', 'drunk', 'dual', 'due', 'eighth', 'elder', 'eldest', 'enough', 'entertain', 'equal', 'essay', 'establish', 'ethic', 'even', 'express', 'fair', 'fairer', 'famous', 'far', 'fell', 'fellow', 'final', 'fine', 'first', 'flat', 'flawless', 'foreign', 'foremost', 'formal', 'former', 'fourth', 'frank', 'free', 'frequent', 'full', 'fundamentalist', 'further', 'global', 'golden', 'good', 'gradual', 'grand', 'great', 'gross', 'grosser', 'guest', 'hangman', 'hard', 'harish', 'heroic', 'high', 'higher', 'highest', 'honest', 'hot', 'houseful', 'huge', 'hum', 'ill', 'impair', 'intact', 'intern', 'keen', 'kind', 'known', 'last', 'late', 'later', 'latest', 'latter', 'laud', 'lead', 'lean', 'least', 'left', 'less', 'lifelong', 'light', 'live', 'local', 'long', 'low', 'lukewarm', 'madcap', 'magic', 'main', 'major', 'male', 'martial', 'maverick', 'mean', 'medic', 'medium', 'mental', 'mere', 'mid', 'minor', 'modern', 'moral', 'most', 'much', 'naam', 'nervous', 'new', 'next', 'nice', 'ninth', 'non', 'normal', 'northwest', 'odd', 'offbeat', 'old', 'older', 'onward', 'open', 'opposit', 'other', 'overnight', 'own', 'parallel', 'particular', 'patient', 'patriarch', 'perfect', 'perform', 'pivot', 'plum', 'poet', 'polish', 'ponga', 'popular', 'posit', 'possess', 'present', 'previous', 'proper', 'prowess', 'public', 'quick', 'rapid', 'rare', 'raw', 'real', 'rebel', 'recent', 'red', 'regular', 'renal', 'right', 'roguish', 'rough', 'runaway', 'safe', 'sambar', 'second', 'secret', 'select', 'senior', 'serial', 'serious', 'seventh', 'sever', 'sheer', 'short', 'singh', 'slow', 'small', 'smooth', 'social', 'solo', 'special', 'sperm', 'standard', 'strict', 'strong', 'success', 'sudden', 'sundari', 'supari', 'tall', 'tempest', 'terrorist', 'third', 'top', 'total', 'tough', 'tragic', 'tri', 'tribal', 'true', 'twin', 'typic', 'uncertain', 'unparallel', 'unsuccess', 'urgent', 'usual', 'valid', 'various', 'veneer', 'veteran', 'vibrant', 'villain', 'visual', 'weak', 'whole', 'wide', 'wise', 'wrong', 'young', 'younger']\n"
     ]
    }
   ],
   "source": [
    "print(vectorizer.get_feature_names())"
   ]
  },
  {
   "cell_type": "markdown",
   "metadata": {},
   "source": [
    "# Save Data In CSV Format"
   ]
  },
  {
   "cell_type": "code",
   "execution_count": 27,
   "metadata": {},
   "outputs": [],
   "source": [
    "df_celebrities.to_csv('celebrities_personality_data.csv', index=False)"
   ]
  },
  {
   "cell_type": "markdown",
   "metadata": {},
   "source": [
    "# Save Data In SQLite3 Database"
   ]
  },
  {
   "cell_type": "code",
   "execution_count": 28,
   "metadata": {},
   "outputs": [],
   "source": [
    "import sqlite3\n",
    "conn = sqlite3.connect('DBCelebrities.sqlite3')\n",
    "df_celebrities.to_sql('Celebrities_Personality_Data', conn, if_exists='replace', index=False)"
   ]
  },
  {
   "cell_type": "code",
   "execution_count": null,
   "metadata": {},
   "outputs": [],
   "source": []
  },
  {
   "cell_type": "code",
   "execution_count": null,
   "metadata": {},
   "outputs": [],
   "source": []
  },
  {
   "cell_type": "code",
   "execution_count": 29,
   "metadata": {},
   "outputs": [],
   "source": [
    "# nouns = []\n",
    "# adjectives = []\n",
    "# for token in about_doc:\n",
    "#     if token.pos_ == 'ADJ':\n",
    "#         adjectives.append(token)\n",
    "    \n",
    "#     if token.pos_ == 'NOUN':\n",
    "#         nouns.append(token)"
   ]
  },
  {
   "cell_type": "code",
   "execution_count": 30,
   "metadata": {},
   "outputs": [],
   "source": [
    "# print(len(adjectives))\n",
    "# adjectives"
   ]
  }
 ],
 "metadata": {
  "kernelspec": {
   "display_name": "Python 3",
   "language": "python",
   "name": "python3"
  },
  "language_info": {
   "codemirror_mode": {
    "name": "ipython",
    "version": 3
   },
   "file_extension": ".py",
   "mimetype": "text/x-python",
   "name": "python",
   "nbconvert_exporter": "python",
   "pygments_lexer": "ipython3",
   "version": "3.8.0"
  }
 },
 "nbformat": 4,
 "nbformat_minor": 2
}
